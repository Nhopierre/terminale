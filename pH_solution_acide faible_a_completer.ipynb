{
 "cells": [
  {
   "cell_type": "markdown",
   "metadata": {},
   "source": [
    "# Calcul du taux d'avancement final pour une solution d'un acide faible."
   ]
  },
  {
   "cell_type": "markdown",
   "metadata": {
    "raw_mimetype": "text/restructuredtext"
   },
   "source": [
    "<div class = 'alert alert-info'>\n",
    "Pour exécuter le code écrit dans un bloc : <b>MAJ-ENTREE </b><br>\n",
    "    Pour recommencer depuis le début : Menu <b>Kernel / Restart and clear output </b><br>\n",
    "    Toujours exécuter dans l'ordre le code  écrit dans les blocs précédés de la mention <b>Entrée  [  ]</b>\n",
    "</div>"
   ]
  },
  {
   "cell_type": "markdown",
   "metadata": {},
   "source": [
    "<div class = 'alert alert-warning'>Importation de module de calcul.\n",
    "    </div>"
   ]
  },
  {
   "cell_type": "code",
   "execution_count": null,
   "metadata": {},
   "outputs": [],
   "source": [
    "import math"
   ]
  },
  {
   "cell_type": "markdown",
   "metadata": {},
   "source": [
    "## 1. Données."
   ]
  },
  {
   "cell_type": "markdown",
   "metadata": {},
   "source": [
    "<div class = 'alert alert-warning'>\n",
    "    On note <b>Capp</b> la concentration apportée de l'acide faible AH. Sa base conjuguée est noté A<sup>-</sup>. <br>\n",
    "    Les valeurs sont données en mol.L<sup>-1</sup>    \n",
    "    <hr>\n",
    "Données à compléter pour une solution d'acide éthanoïque de concentration apportée 0,010 mol.L<sup>-1</sup>\n",
    "    </div>"
   ]
  },
  {
   "cell_type": "code",
   "execution_count": null,
   "metadata": {},
   "outputs": [],
   "source": [
    "pKa = \n",
    "Capp = "
   ]
  },
  {
   "cell_type": "markdown",
   "metadata": {},
   "source": [
    "## 2. Calcul du taux d'avancement."
   ]
  },
  {
   "cell_type": "markdown",
   "metadata": {},
   "source": [
    "<div class = 'alert alert-warning'>\n",
    "    a) Ecrire l'équation de la réaction entre un acide faible et l'eau. <br>\n",
    "    b) Rappeler la définition du taux d'avancement et en déduire son expression en fonction de [H<sub>3</sub>O<sup>+</sup>] que l'on notera <b>h</b> et de <b>Capp</b>.<br>\n",
    "    c) Rappeler l'expression du Ka. <br>\n",
    "    d) En déduire une équation du second degré que l'on écrira sous la forme :<br>\n",
    "    $$\n",
    "    \\tau^2 + b\\times \\tau +c = 0\n",
    "    $$\n",
    "    e) Quelles sont les expressions de <b>b</b> et <b>c</b> dans l'équation précédente ?<br> \n",
    "<hr>\n",
    "    La fonction <code class = \"python\">calcul_tau</code> calcule le <b>taux d'avancement final</b> à partir des valeurs du pKa et de la concentration apportée de l'acide. <br>\n",
    "    Compléter les lignes permettant de calculer <code class = \"python\">Ka</code>, <code class = \"python\">b</code>, <code class = \"python\">c</code>, <code class = \"python\">delta</code> et le taux d'avancement final <code class = \"python\">tau</code>.\n",
    "    </div>"
   ]
  },
  {
   "cell_type": "code",
   "execution_count": null,
   "metadata": {},
   "outputs": [],
   "source": [
    "def calcul_tau(Capp,pKa):\n",
    "    Ka = \n",
    "    b = \n",
    "    c = \n",
    "    delta = \n",
    "    racine_delta = math.sqrt(delta)\n",
    "    tau = \n",
    "    return tau    "
   ]
  },
  {
   "cell_type": "markdown",
   "metadata": {},
   "source": [
    "## 3. Utilisation du modèle."
   ]
  },
  {
   "cell_type": "markdown",
   "metadata": {},
   "source": [
    "<div class = 'alert alert-warning'>\n",
    "    Compléter dans la fonction <code class = \"python\">resultats</code>, les lignes permettant de calculer à partir du taux d'avancement final <code class = \"python\">tau</code> et de la concentration apportée <code class = \"python\">Capp</code> : <br>\n",
    "    - la concentration des ions oxonium <code class = \"python\">h</code>, <br>\n",
    "    - la concentration de l'acide <code class = \"python\">C_AH</code>, <br>\n",
    "    - celle de la base conjuguée <code class = \"python\">C_A</code> et <br>\n",
    "    - le <code class = \"python\">pH</code> (le logarithme décimal est calculé par la fonction <code class = \"python\">math.log10(...)</code>\n",
    "    </div>"
   ]
  },
  {
   "cell_type": "code",
   "execution_count": null,
   "metadata": {},
   "outputs": [],
   "source": [
    "def resultats ( tau, Capp):\n",
    "    h = \n",
    "    C_A = \n",
    "    C_AH = \n",
    "    pH = \n",
    "    print(\"Concentration de l'acide\", \"%.2e\"% C_AH, \"mol/L\")\n",
    "    print(\"Concentration de la base\", \"%.2e\"% C_A, \"mol/L\")\n",
    "    print(\"pH de la solution\",  \"%.2f\"% pH)\n",
    "    print(\"le taux d'avancement final :\",\"%.1f\"% (tau*100),\"%\")"
   ]
  },
  {
   "cell_type": "markdown",
   "metadata": {},
   "source": [
    "<div class = 'alert alert-warning'>\n",
    "    Appel de la fonction <code class = \"python\">calcul_tau( , )</code> avec passage des arguments <code class = \"python\">pKa</code> et <code class = \"python\">Capp</code> pour calculer la variable <code class = \"python\">tau</code> <hr>\n",
    "    Appel de la fonction <code class = \"python\">resultats( , )</code> avec passage des arguments <code class = \"python\">tau</code> et <code class = \"python\">Capp</code> pour afficher les résultats</div>"
   ]
  },
  {
   "cell_type": "code",
   "execution_count": null,
   "metadata": {},
   "outputs": [],
   "source": [
    "tau = calcul_tau(Capp,pKa)\n",
    "resultats (tau, Capp)"
   ]
  },
  {
   "cell_type": "markdown",
   "metadata": {},
   "source": [
    "## 3. Limites du modèle."
   ]
  },
  {
   "cell_type": "markdown",
   "metadata": {},
   "source": [
    "<div class = 'alert alert-warning'>On considère un acide faible de pKa = 5,0 et de concentration apportée inférieure à 0,10 mol/L\n",
    "<hr>\n",
    "a) A partir de quelle valeur de concentration apportée, le modèle prévoit-il des valeurs de pH incohérentes pour une solution acide ? <br>\n",
    "b) Quelle est l'hypothèse qui a été faite lors des calculs et qui n'est plus valable ?<br>\n",
    "<br>\n",
    "</div>"
   ]
  },
  {
   "cell_type": "code",
   "execution_count": null,
   "metadata": {},
   "outputs": [],
   "source": [
    "pKa = \n",
    "Capp = \n",
    "tau = calcul_tau(Capp,pKa)\n",
    "resultats (tau, Capp)\n"
   ]
  },
  {
   "cell_type": "markdown",
   "metadata": {},
   "source": [
    "## C'est fini\n",
    "Il ne reste plus qu'à télécharger le fichier !"
   ]
  },
  {
   "cell_type": "markdown",
   "metadata": {},
   "source": [
    "<div class = 'alert alert-success'><h4>La commande suivante imprime toutes les lignes de code exécutées depuis la dernière initialisation de la page (Restart and Clear Output) <br><br>Cela permet de les copier dans Spyder ou dans un fichier .text par exemple.</h4></div>"
   ]
  },
  {
   "cell_type": "code",
   "execution_count": null,
   "metadata": {},
   "outputs": [],
   "source": [
    "%history"
   ]
  }
 ],
 "metadata": {
  "kernelspec": {
   "display_name": "Python 3",
   "language": "python",
   "name": "python3"
  },
  "language_info": {
   "codemirror_mode": {
    "name": "ipython",
    "version": 3
   },
   "file_extension": ".py",
   "mimetype": "text/x-python",
   "name": "python",
   "nbconvert_exporter": "python",
   "pygments_lexer": "ipython3",
   "version": "3.7.6"
  }
 },
 "nbformat": 4,
 "nbformat_minor": 4
}

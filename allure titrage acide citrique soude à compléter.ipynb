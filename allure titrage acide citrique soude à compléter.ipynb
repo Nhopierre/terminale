{
 "cells": [
  {
   "cell_type": "markdown",
   "metadata": {},
   "source": [
    "# Allure des courbes d'évolution des quantités de matière au cours d'un titrage"
   ]
  },
  {
   "cell_type": "markdown",
   "metadata": {
    "raw_mimetype": "text/restructuredtext"
   },
   "source": [
    "<div class = 'alert alert-info'>\n",
    "Pour exécuter le code écrit dans un bloc : <b>MAJ-ENTREE </b><br>\n",
    "    Pour recommencer depuis le début : Menu <b>Kernel / Restart and clear output </b><br>\n",
    "    Toujours exécuter dans l'ordre le code  écrit dans les blocs précédés de la mention <b>Entrée  [  ]</b>\n",
    "</div>"
   ]
  },
  {
   "cell_type": "markdown",
   "metadata": {},
   "source": [
    "<div class = 'alert alert-warning'>Importation des modules de calcul et de tracé de courbe.\n",
    "    </div>"
   ]
  },
  {
   "cell_type": "code",
   "execution_count": null,
   "metadata": {},
   "outputs": [],
   "source": [
    "import matplotlib.pyplot as plt\n",
    "%matplotlib inline\n",
    "import numpy as np"
   ]
  },
  {
   "cell_type": "markdown",
   "metadata": {},
   "source": [
    "# 1. Données"
   ]
  },
  {
   "cell_type": "markdown",
   "metadata": {},
   "source": [
    "<div class = 'alert alert-warning'>\n",
    "    On étudie le titrage de l'acide citrique, triacide noté $AH_3$ pour simplifier, par la soude.<br><br>\n",
    "L'équation de la réaction support de titrage est : \n",
    "    $$\n",
    "    AH_3 + 3 \\: OH^{-}\\longrightarrow A^{3-} + 3 \\: H_2O\n",
    "    $$<br>\n",
    "On note  $c_{titré}$  de concentration molaire apportée en acide citrique en mol/L <br>\n",
    "On note  $c_{titrant}$ de concentration molaire apportée de la soude en mol//L <br>\n",
    "On note $V_{titré}$ le volume de la prise d'essai (en mL)\n",
    "    </div>"
   ]
  },
  {
   "cell_type": "code",
   "execution_count": null,
   "metadata": {},
   "outputs": [],
   "source": [
    "c_titre = 0.1                   # en mol/L\n",
    "c_titrant = 0.1                 # en mol/L\n",
    "V_titre = 5.0                  # en mL"
   ]
  },
  {
   "cell_type": "markdown",
   "metadata": {},
   "source": [
    "# 2. Calcul des quantités de matières des espèces."
   ]
  },
  {
   "cell_type": "markdown",
   "metadata": {},
   "source": [
    "<div class = 'alert alert-warning'>\n",
    "a) Ecrire la relation à l'équivalence en fonction des données saisies puis en déduire l'expression du volume équivalent $V_E$<br><hr>\n",
    "    Compléter le calcul ci-dessous.\n",
    "    </div>\n",
    "   "
   ]
  },
  {
   "cell_type": "code",
   "execution_count": null,
   "metadata": {},
   "outputs": [],
   "source": [
    "# calcul du volume équivalent en mL\n",
    "\n",
    "V_E = \n",
    "print(V_E)"
   ]
  },
  {
   "cell_type": "markdown",
   "metadata": {},
   "source": [
    "## 2.1 Volume de solution titrante inférieur à $V_E$."
   ]
  },
  {
   "cell_type": "markdown",
   "metadata": {},
   "source": [
    "<div class = 'alert alert-warning'>\n",
    "    a) Exprimer la quantité de matière initiale de $AH_3$ dans la prise d'essai avant le titrage puis montrer que la quantité de matière de $AH_3$ dans le bécher pour un volume $V_{titrant}$ de solution titrante ajoutée s'exprime : <br>\n",
    "       $$\n",
    "    n(AH_3)=c_{titre}.V_{titre}- \\frac {c_{titrant}.V_{titrant}}{3}\n",
    "    $$<br>\n",
    "    <hr>\n",
    "    b) Que dire du nombre de mol de $OH^{-}$  avant l'équivalence ? Justifier.<br>\n",
    "    c) Exprimer le nombre de mol de $A^{3-}$ dans le bécher pour un volume $V_{titrant}$ de solution titrante ajoutée.<br>\n",
    "    d) Exprimer le nombre de mol de $Na^{+}$ dans le bécher pour un volume $V_{titrant}$ de solution titrante ajoutée.<br>\n",
    "    </div>"
   ]
  },
  {
   "cell_type": "markdown",
   "metadata": {},
   "source": [
    "##  2.2 Volume de solution titrante supérieur à $V_E$"
   ]
  },
  {
   "cell_type": "markdown",
   "metadata": {},
   "source": [
    "<div class = 'alert alert-warning'>\n",
    "    a) Montrer que la quantité de matière de $OH^-$ dans le bécher pour un volume $V_{titrant}$ de solution titrante ajoutée s'exprime : <br>\n",
    "       $$\n",
    "    n(OH^-)=c_{titrant}.V_{titrant}-c_{titrant}.V_{E}\n",
    "    $$<br>\n",
    "    b) Que dire du nombre de mol de $AH_3$  après l'équivalence ? Justifier<br>\n",
    "    c) Exprimer le nombre de mol de $A^{3-}$ dans le bécher.<br>\n",
    "    d) Exprimer le nombre de mol de $Na^{+}$ dans le bécher pour un volume $V_{titrant}$ de solution titrante ajoutée.<br>\n",
    "    </div>"
   ]
  },
  {
   "cell_type": "markdown",
   "metadata": {},
   "source": [
    "# 3. Tracé des courbes d'évolution."
   ]
  },
  {
   "cell_type": "markdown",
   "metadata": {},
   "source": [
    "## 3.1 Pour l'ion hydroxyde $OH^-$."
   ]
  },
  {
   "cell_type": "markdown",
   "metadata": {},
   "source": [
    "<div class = 'alert alert-warning'>\n",
    "La fonction suivante renvoie à partir du paramètre <code class = \"python\">V_E</code> une liste <code class = \"python\">n_OH</code> contenant les  valeurs de la quantité de $OH^-$ calculées après des ajouts successifs de 0,5 mL de réactif titrant.<br>\n",
    "    </div>"
   ]
  },
  {
   "cell_type": "code",
   "execution_count": null,
   "metadata": {},
   "outputs": [],
   "source": [
    "def qte_OH (V_E):\n",
    "    V_titrant = 0                                       # volume initial de réactif titrant\n",
    "    n_OH = []                                           # réation d'une liste vide\n",
    "    while V_titrant < 25:\n",
    "        if V_titrant < V_E:                             # si on est \"avant l'équivalence\"\n",
    "            n = 0                                           # calcul de la quantité de matière\n",
    "        else:                                           # sinon on est \"après l'équivalence\"\n",
    "            n = c_titrant*V_titrant - c_titrant*V_E           # calcul de la quantité de matière\n",
    "        n_OH.append(n)                                  # ajout de cette nouvelle valeur de la liste\n",
    "        V_titrant = V_titrant+0.5                       # nouvelle valeur du volume de réactif titrant\n",
    "    return n_OH    \n",
    "   "
   ]
  },
  {
   "cell_type": "markdown",
   "metadata": {},
   "source": [
    "<div class = 'alert alert-warning'>\n",
    "    Le code suivant crée la liste des volumes de réactif titrant ajoutés.<br>\n",
    "    Il appelle la fonction <code class = \"python\">qte_OH</code> en lui transmettant la valeur du volume à l'équivalence calculée plus tôt.<br>\n",
    "    Il trace le graphe représentant :<br>\n",
    "       $$\n",
    "    n(OH^-)= f \\: (V_{titrant})\n",
    "    $$\n",
    "    </div>"
   ]
  },
  {
   "cell_type": "code",
   "execution_count": null,
   "metadata": {
    "scrolled": true
   },
   "outputs": [],
   "source": [
    "V_titrant = np.arange(0, 25, 0.5)                           # liste des volumes du titrant\n",
    "\n",
    "n_OH = qte_OH(V_E)                                          # appel de la fonction calculant\n",
    "                                                            #              la quantité de OH-\n",
    "plt.figure (figsize = (10,5))\n",
    "plt.plot(V_titrant,n_OH,marker=\"x\",label=\"$OH^{-}$\")        # tracé de la courbe\n",
    "plt.xlabel('Volume de solution titrante en mL')\n",
    "plt.ylabel(\"Quantité de matière de l'espèce en mmol\")\n",
    "plt.legend()\n",
    "plt.show()"
   ]
  },
  {
   "cell_type": "markdown",
   "metadata": {},
   "source": [
    "## 3.2 Pour les autres espèces : $AH_3$, $A^{3-}$ et $Na^{+}$."
   ]
  },
  {
   "cell_type": "markdown",
   "metadata": {},
   "source": [
    "<div class = 'alert alert-warning'>\n",
    "   Compléter sur le modèle précédent les fonctions <br>\n",
    "    - <code class = \"python\">qte_AH_3</code> permettant de calculer la quantité de $AH_3$ ,  <br>\n",
    "    - <code class = \"python\">qte_A3</code> permettant de calculer la quantité de $A^{3-}$  et<br>\n",
    "    - <code class = \"python\">qte_Na</code> permettant de calculer la quantité de $Na^{+}$.\n",
    "    </div>"
   ]
  },
  {
   "cell_type": "code",
   "execution_count": null,
   "metadata": {},
   "outputs": [],
   "source": [
    "def qte_AH_3 (V_E):\n",
    "    V_titrant = 0\n",
    "    n_AH_3 = []\n",
    "    while V_titrant < 25:\n",
    "        if V_titrant < V_E:\n",
    "            n =                                   # à compéter\n",
    "        else:\n",
    "            n =                                   # à compéter            \n",
    "        n_AH_3.append(n)\n",
    "        V_titrant=V_titrant+0.5\n",
    "    return n_AH_3    \n",
    "   "
   ]
  },
  {
   "cell_type": "code",
   "execution_count": null,
   "metadata": {},
   "outputs": [],
   "source": [
    "def qte_A3 (V_E):\n",
    "    V_titrant = 0\n",
    "    n_A3 = []\n",
    "    \n",
    "                                          # à compéter\n",
    "        \n",
    "    return n_A3    \n",
    "   "
   ]
  },
  {
   "cell_type": "code",
   "execution_count": null,
   "metadata": {},
   "outputs": [],
   "source": [
    "def qte_Na (V_E):\n",
    "    V_titrant = 0\n",
    "    n_Na = []\n",
    "    \n",
    "                                          # à compéter\n",
    "        \n",
    "        \n",
    "    return n_Na    \n",
    "   "
   ]
  },
  {
   "cell_type": "markdown",
   "metadata": {},
   "source": [
    "<div class = 'alert alert-warning'>\n",
    "    Le code suivant trace le graphe représentant les quatre quantités de matière en fonction du volume de réactif titrant ajouté .<br>\n",
    "    </div>"
   ]
  },
  {
   "cell_type": "code",
   "execution_count": null,
   "metadata": {
    "scrolled": true
   },
   "outputs": [],
   "source": [
    "V_titrant = np.arange(0, 25, 0.5)\n",
    "\n",
    "### Appel des fonctions pour créer les listes de valeurs \n",
    "n_OH = qte_OH(V_E)\n",
    "n_Na = qte_Na(V_E)\n",
    "n_A3 = qte_A3(V_E)\n",
    "n_AH_3 = qte_AH_3(V_E)\n",
    "\n",
    "### Tracé des 4 courbes\n",
    "plt.figure (figsize = (10,5))\n",
    "plt.plot(V_titrant,n_OH,marker=\"x\",label=\"$OH^{-}$\")\n",
    "plt.plot(V_titrant,n_AH_3,marker=\"+\",label=\"$AH_3$\")\n",
    "plt.plot(V_titrant,n_A3,marker=\"o\",label=\"$A^{3-}$\")\n",
    "plt.plot(V_titrant,n_Na,marker=\"v\",label=\"$Na^{+}$\")\n",
    "plt.xlabel('Volume de solution titrante en mL')\n",
    "plt.ylabel(\"Quantité de matière de l'espèce en mmol\")\n",
    "plt.legend()\n",
    "plt.show()"
   ]
  },
  {
   "cell_type": "markdown",
   "metadata": {},
   "source": [
    "<div class = 'alert alert-warning'>\n",
    "Imprimer la courbe ci-dessus\n",
    "    </div>"
   ]
  },
  {
   "cell_type": "markdown",
   "metadata": {},
   "source": [
    "## C'est fini\n",
    "Il ne reste plus qu'à télécharger le fichier !"
   ]
  },
  {
   "cell_type": "markdown",
   "metadata": {},
   "source": [
    "<div class = 'alert alert-success'><h4>La commande suivante imprime toutes les lignes de code exécutées depuis la dernière initialisation de la page (Restart and Clear Output) <br><br>Cela permet de les copier dans Spyder ou dans un fichier .text par exemple.</h4></div>"
   ]
  },
  {
   "cell_type": "code",
   "execution_count": null,
   "metadata": {},
   "outputs": [],
   "source": [
    "%history"
   ]
  }
 ],
 "metadata": {
  "kernelspec": {
   "display_name": "Python 3",
   "language": "python",
   "name": "python3"
  },
  "language_info": {
   "codemirror_mode": {
    "name": "ipython",
    "version": 3
   },
   "file_extension": ".py",
   "mimetype": "text/x-python",
   "name": "python",
   "nbconvert_exporter": "python",
   "pygments_lexer": "ipython3",
   "version": "3.7.6"
  }
 },
 "nbformat": 4,
 "nbformat_minor": 4
}

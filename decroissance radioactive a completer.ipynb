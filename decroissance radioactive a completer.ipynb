{
 "cells": [
  {
   "cell_type": "markdown",
   "metadata": {},
   "source": [
    "# Décroissance radioactive"
   ]
  },
  {
   "cell_type": "markdown",
   "metadata": {},
   "source": [
    "<div class = 'alert alert-info'>\n",
    "Pour exécuter le code écrit dans un bloc : <b>MAJ-ENTREE </b><br>\n",
    "    Pour recommencer depuis le début : Menu <b>Kernel / Restart and clear output </b><br>\n",
    "    Toujours exécuter dans l'ordre le code  écrit dans les blocs précédés de la mention <b>Entrée  [  ]</b>\n",
    "</div>"
   ]
  },
  {
   "cell_type": "markdown",
   "metadata": {},
   "source": [
    "<div class = 'alert alert-warning'>Importation des modules de calcul et de tracé de courbe.\n",
    "    </div>"
   ]
  },
  {
   "cell_type": "code",
   "execution_count": null,
   "metadata": {},
   "outputs": [],
   "source": [
    "import numpy as np\n",
    "import matplotlib.pylab as plt"
   ]
  },
  {
   "cell_type": "markdown",
   "metadata": {},
   "source": [
    "## 1. Activité d'une population de noyaux radioactifs."
   ]
  },
  {
   "cell_type": "markdown",
   "metadata": {},
   "source": [
    "<div class = 'alert alert-warning'><h3>1.1 Mesures de l'activité d'une population de noyaux radioactifs.</h3><br>\n",
    "    On dispose de mesures de l'activité radioactive effectuées sur une population de noyaux de radon 220.<br>\n",
    "    Les mesures ont été rassemblées dans les deux listes <code class = \"python\">A_mesure</code> et <code class = \"python\">t_mesure</code> correspondant aux activités mesurées et aux dates respectives.\n",
    "</div>"
   ]
  },
  {
   "cell_type": "code",
   "execution_count": null,
   "metadata": {},
   "outputs": [],
   "source": [
    "t_mesure = [0, 7, 14, 21, 28, 35, 42, 49, 56, 63,\n",
    "            70, 77, 84, 91, 98, 105, 112, 119, 126, 133, 140, 147, 154, 161, 168]\n",
    "t_max = max(t_mesure)\n",
    "A_mesure = [230, 189, 196, 160, 150, 150, 131, 124, 100,\n",
    "            105, 91, 80, 81, 72, 70, 55, 50, 51, 45, 46, 44, 31, 34, 26, 31]"
   ]
  },
  {
   "cell_type": "markdown",
   "metadata": {},
   "source": [
    "\n",
    "<div class = 'alert alert-warning'>\n",
    "  <H3>1.2 Représentation graphique des mesures</H3><br>  \n",
    "    L'instruction <code class = \"python\">plt.plot(x, y, \"+\", color = \"blue\")</code> permet de représenter <code class = \"python\">y</code> en fonction de <code class = \"python\">x</code> par des croix bleues.<br>Si les arguments sont des tableaux contenant plusieurs nombres, l'instruction s'applique à chaque couple de nombres issu des 2 tableaux.\n",
    "</div>\n",
    "<div class = 'alert alert-info'>\n",
    "    Compléter le code qui permet de représenter <code class = \"python\">A_mesure</code> en fonction de <code class = \"python\">t_mesure</code>.\n",
    "</div>"
   ]
  },
  {
   "cell_type": "code",
   "execution_count": null,
   "metadata": {},
   "outputs": [],
   "source": [
    "..."
   ]
  },
  {
   "cell_type": "markdown",
   "metadata": {},
   "source": [
    "<div class = 'alert alert-warning'><h3>1.3 Constante radioactive.</h3><br>\n",
    "    L'activité A(t) est le nombre de désintégration par unité de temps dans une population de noyaux radioactifs.<br>\n",
    "    Elle correspond donc \n",
    "    $$\n",
    "    A(t) = - \\frac {dN(t)} {dt}\n",
    "    $$\n",
    "    <br>\n",
    "    La constante radioactive λ d'un noyau relie le nombre de noyaux présents et l'activité.\n",
    "    $$\n",
    "    A(t) = \\lambda \\times N(t)\n",
    "    $$\n",
    "    l'activité s'exprime en Becquerel (Bq) et la constante radioactive en s<sup>-1</sup>.\n",
    "</div>\n",
    "<div class = 'alert alert-info'>\n",
    "    Montrer que\n",
    "    $$\n",
    "    \\frac{ dA(t)}{dt} = - \\lambda \\times A(t) \n",
    "    $$   \n",
    "</div>"
   ]
  },
  {
   "cell_type": "markdown",
   "metadata": {},
   "source": [
    "<div class = 'alert alert-warning'><h3>Valeur de la constante radioactive du radon 220</h3>\n",
    "    </div>"
   ]
  },
  {
   "cell_type": "code",
   "execution_count": null,
   "metadata": {},
   "outputs": [],
   "source": [
    "lambda_Rn = 0.0125     # en s-1"
   ]
  },
  {
   "cell_type": "markdown",
   "metadata": {},
   "source": [
    "## 2. Modélisation par la méthode d'Euler."
   ]
  },
  {
   "cell_type": "markdown",
   "metadata": {},
   "source": [
    "<div class = 'alert alert-warning'>\n",
    "  <H3>2.1 Méthode d'Euler</H3><br>  \n",
    "   La méthode d'Euler donne une approximation de la valeur de A à la date t+Δt en considérant que A(t) va s'accroître de \n",
    "    $$\n",
    "    \\frac{ dA(t)}{dt}  \\times \\Delta t \n",
    "    $$\n",
    "    <br>c'est-à-dire\n",
    "    $$\n",
    "    A(t + \\Delta t) = A(t) + \\frac{ dA(t)}{dt}  \\times \\Delta t \n",
    "    $$\n",
    "    <br>  <br> \n",
    "    A partir du résultat de la question précédente, on peut \n",
    "    écrire la valeur de l'activité A à la date t+Δt en fonction de A(t) et de son taux d'accroissement.\n",
    "    $$\n",
    "    A(t + \\Delta t ) = A(t) - \\lambda \\times A(t)  \\times \\Delta t\n",
    "    $$\n",
    "</div>\n",
    "<div class = 'alert alert-info'>\n",
    "    a) En supposant que A(0) = 230 Bq, calculer A à la date t = 1 s.<br>\n",
    "    b) Déterminer le terme suivant en \"avançant\" encore d'une seconde.\n",
    "</div>"
   ]
  },
  {
   "cell_type": "markdown",
   "metadata": {},
   "source": [
    "<div class = 'alert alert-warning'><h3>2.2 Réalisation pratique à l'aide d'une fonction.</h3><br>\n",
    "    Le code ci-dessous définit une fonction nommée <code class = \"python\">methode_d_euler</code> reçoit les paramètres: <br>\n",
    "    - <code class = \"python\">A_0</code> première valeur de A   <br>\n",
    "    - <code class = \"python\">nbr_de_pas</code> qui correspond au nombre de points qui seront calculés   <br>\n",
    "    - <code class = \"python\">delta_t</code> qui correspond au pas de calcul   <br>\n",
    "A chaque itération des boucles <code class = \"python\">for ...</code>, la fonction calcule la valeur suivante de A(t) et de t et les placent dans les deux tableaux <code class = \"python\">A</code> et <code class = \"python\">t</code>\n",
    "    <hr>\n",
    "    L'instruction <code class = \"python\">A = np.append(A, activite)</code> ajoute la valeur <code class = \"python\">activite</code> dans le tableau <code class = \"python\">A</code>.\n",
    "</div>"
   ]
  },
  {
   "cell_type": "code",
   "execution_count": null,
   "metadata": {},
   "outputs": [],
   "source": [
    "def methode_d_euler(A_0, nbr_de_pas, delta_t):\n",
    "    \n",
    "    activite = A_0          # initialisation des valeurs avant de commencer les boucles de calcul\n",
    "    date = 0\n",
    "    \n",
    "    A = np.array(A_0)       # créations de 2 tableaux \"numpy\" ne contenant\n",
    "    t = np.array(0)         # que la première valeur\n",
    "    \n",
    "    for i in range(nbr_de_pas):    \n",
    "        activite = activite - lambda_Rn*activite*delta_t\n",
    "        A = np.append(A, activite)\n",
    "    \n",
    "    for i in range(nbr_de_pas):    \n",
    "        date = date + delta_t\n",
    "        t = np.append(t, date)\n",
    "        \n",
    "    return A, t"
   ]
  },
  {
   "cell_type": "markdown",
   "metadata": {},
   "source": [
    "## 3. Modélisation de l'activité d'une population de radon 220."
   ]
  },
  {
   "cell_type": "markdown",
   "metadata": {},
   "source": [
    "<div class = 'alert alert-warning'>Définition du nombre de points calculés et du pas de calcul (qui correspond à Δt)\n",
    "    </div>"
   ]
  },
  {
   "cell_type": "code",
   "execution_count": null,
   "metadata": {},
   "outputs": [],
   "source": [
    "nombre_points = 1\n",
    "Delta_t = t_max/nombre_points"
   ]
  },
  {
   "cell_type": "markdown",
   "metadata": {},
   "source": [
    "<div class = 'alert alert-warning'>Appel de la fonction <code class = \"python\">methode_d_euler</code> et passage des arguments. <br>\n",
    "    - <code class = \"python\">A_mesure[0]</code> <br> \n",
    "    - <code class = \"python\">nombre_points</code> <br>\n",
    "    - <code class = \"python\">Delta_t</code> <br>\n",
    "    Les résultats sont attribués aux deux tableaux <code class = \"python\">A_calculee</code> et <code class = \"python\">date</code>.\n",
    "    </div>\n",
    "<div class = 'alert alert-info'>\n",
    "    Compléter le code qui réalise l'appel de la fonction et lui passe les arguments. \n",
    "</div>"
   ]
  },
  {
   "cell_type": "code",
   "execution_count": null,
   "metadata": {},
   "outputs": [],
   "source": [
    "A_calculee, date = ...\n"
   ]
  },
  {
   "cell_type": "markdown",
   "metadata": {},
   "source": [
    "<div class = 'alert alert-warning'>Représentation graphique des valeurs mesurées et des valeurs calculées par la modélistaion\n",
    "    </div>\n",
    "<div class = 'alert alert-info'>\n",
    "    Compléter le code qui permet de représenter <br>\n",
    "    - <code class = \"python\">A_mesure</code> en fonction de <code class = \"python\">t_mesure</code> d'une part<br>\n",
    "    - <code class = \"python\">A_calculee</code> en fonction de <code class = \"python\">date</code> d'autre part.<br>\n",
    "    On pourra changer la couleur du tracé et remplacer les croix <code class = \"python\">+</code> par des points reliés par des segments <code class = \"python\">-o</code> pour le tracé de la modélisation.\n",
    "</div>"
   ]
  },
  {
   "cell_type": "code",
   "execution_count": null,
   "metadata": {
    "scrolled": true
   },
   "outputs": [],
   "source": [
    "...\n",
    "..."
   ]
  },
  {
   "cell_type": "markdown",
   "metadata": {},
   "source": [
    "<div class = 'alert alert-info'>\n",
    "    Questions\n",
    "    <hr>\n",
    "    <i>\n",
    "    A partir de combien de pas de calcul peut-on considérer que la modélisation obtenue par la méthode d'Euler est suffisamment précise ?\n",
    "       </i></div>"
   ]
  }
 ],
 "metadata": {
  "kernelspec": {
   "display_name": "Python 3",
   "language": "python",
   "name": "python3"
  },
  "language_info": {
   "codemirror_mode": {
    "name": "ipython",
    "version": 3
   },
   "file_extension": ".py",
   "mimetype": "text/x-python",
   "name": "python",
   "nbconvert_exporter": "python",
   "pygments_lexer": "ipython3",
   "version": "3.7.6"
  }
 },
 "nbformat": 4,
 "nbformat_minor": 4
}

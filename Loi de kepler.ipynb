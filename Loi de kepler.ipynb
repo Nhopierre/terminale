{
 "cells": [
  {
   "cell_type": "markdown",
   "metadata": {},
   "source": [
    "# Les Lois de Kepler"
   ]
  },
  {
   "cell_type": "markdown",
   "metadata": {},
   "source": [
    "<div class = 'alert alert-info'>\n",
    "Pour exécuter le code écrit dans un bloc : <b>MAJ-ENTREE </b><br>\n",
    "    Pour recommencer depuis le début : Menu <b>Kernel / Restart and clear output </b><br>\n",
    "    Toujours exécuter dans l'ordre le code  écrit dans les blocs précédés de la mention <b>Entrée  [  ]</b>\n",
    "</div>"
   ]
  },
  {
   "cell_type": "markdown",
   "metadata": {},
   "source": [
    "<div class = 'alert alert-warning'>Importation des modules de calcul et de tracé de courbe.\n",
    "    </div>"
   ]
  },
  {
   "cell_type": "code",
   "execution_count": null,
   "metadata": {},
   "outputs": [],
   "source": [
    "import math \n",
    "import numpy as np\n",
    "import matplotlib.pylab as plt\n",
    "from scipy.stats import linregress"
   ]
  },
  {
   "cell_type": "markdown",
   "metadata": {},
   "source": [
    "<div class = 'alert alert-warning'><h3>Constantes</h3><br>\n",
    "    l'unité astronomique <b>u.a.</b> est une unité de distance correspondant à la distance moyenne Terre-Soleil soit environ 150 millions de km.\n",
    "    </div>"
   ]
  },
  {
   "cell_type": "code",
   "execution_count": null,
   "metadata": {},
   "outputs": [],
   "source": [
    "ua = 149597870.700      # en km\n",
    "jour = 86400 #secondes\n",
    "pi = math.pi #valeur de pi"
   ]
  },
  {
   "cell_type": "markdown",
   "metadata": {},
   "source": [
    "<div class = 'alert alert-warning'>\n",
    "    <H3>Données astronomiques</H3><br>\n",
    "    <code class = \"python\">t</code> est la date en jour<br>\n",
    "    <code class = \"python\">distance</code> est la distance Soleil - Comète de Halley donnée en unités astronomiques<br>\n",
    "    <code class = \"python\">angle_degré</code> est angle entre l'axe (Ox) et segment reliant le centre O du Soleil et la comète.\n",
    "    </div>"
   ]
  },
  {
   "cell_type": "code",
   "execution_count": null,
   "metadata": {},
   "outputs": [],
   "source": [
    "t = [0,3653,7305,9132,10958,11688,12419,12784,12965,13149,13331,13515,13605,13696,\n",
    "     13788,13802,13819,13833,13849,13863,13880,13884,13889,13894,13899,13904,13911,\n",
    "     13915,13920,13925,13930,13935,13939,13943,13948,13953,13958,13963,13970,13984,\n",
    "     14000,14031,14061,14123,14184,14245,14396,14457,14610,14792,14976,15341,16071,\n",
    "     16802,18628,20454,24107,27759]\n",
    "distance = [35.29,33.65,28.84,24.74,19.06,16.15,12.65,10.59,9.454,8.205,6.841,5.281,\n",
    "            4.423,3.461,2.346,2.159,1.924,1.732,1.486,1.272,1.01,0.949,0.8747,0.8035,\n",
    "            0.7373,0.679,0.6172,0.596,0.5871,0.5988,0.6294,0.6756,0.721,0.772,0.841,\n",
    "            0.9142,0.989,1.066,1.175,1.39,1.63,2.072,2.472,3.229,3.905,4.529,5.915,\n",
    "            6.427,7.621,8.909,10.101,12.222,15.795,18.77,24.533,28.695,33.7,35.284]\n",
    "angle_degre = [-179.9,-176.7,-172.9,-170.3,-166.2,-163.7,-159.9,-157.1,-155.2,-152.7,\n",
    "               -149.2,-143.9,-139.8,-133.5,-121.7,-118.7,-114.4,-109.9,-103.3,-95.5,\n",
    "               -81.46,-77.03,-70.65,-63.11,-54.16,-43.55,-25.74,-14.18,1.04,16.18,30.31,\n",
    "               42.81,51.52,59.14,67.31,74.2,80.05,85.07,90.99,100.1,107.5,117.2,123.4,\n",
    "               131.6,136.7,140.4,146.3,148,151.3,154.1,156.3,159.4,163.4,165.9,170.1,172.8,176.8,180]"
   ]
  },
  {
   "cell_type": "markdown",
   "metadata": {},
   "source": [
    "## Première loi de Kepler - Trajectoire de la Comète de Halley"
   ]
  },
  {
   "cell_type": "markdown",
   "metadata": {},
   "source": [
    "<div class = 'alert alert-warning'>\n",
    "    La fonction suivante convertit le <code class = \"python\">i</code>ème angle de la liste <code class = \"python\">angle_degre[i]</code> en radian<br>\n",
    "    <code class = \"python\">angle_degré</code> est angle entre l'axe (Ox) et segment reliant le centre O du Soleil et la comète de Halley\n",
    "    <hr>\n",
    "    <i>Compléter la ligne permettant de calculer <code class = \"python\">angle_rad</code></i>\n",
    "    </div>"
   ]
  },
  {
   "cell_type": "code",
   "execution_count": null,
   "metadata": {},
   "outputs": [],
   "source": [
    "def angle_radian(i):\n",
    "    angle_rad = angle_degre[i]...\n",
    "    return angle_rad"
   ]
  },
  {
   "cell_type": "markdown",
   "metadata": {},
   "source": [
    "<div class = 'alert alert-warning'>\n",
    "    Calcul des abscisses et ordonnées de la Comète de Halley dans le repère (O,x,y) centré sur le Soleil\n",
    "    <hr>\n",
    "    <i>Compléter les lignes permettant de calculer <code class = \"python\">x[i]</code> et <code class = \"python\">y[i]</code> à partir de l'angle et de la distance au centre du repère.</i><br>\n",
    "    On utilisera les fonctions <code class = \"python\">math.cos(...)</code> et <code class = \"python\">math.sin(...)</code> qui nécessitent un angle en radians.\n",
    "    </div>"
   ]
  },
  {
   "cell_type": "code",
   "execution_count": null,
   "metadata": {},
   "outputs": [],
   "source": [
    "n = len(t)                        # n est le nombre d'éléments de la liste t\n",
    "x = np.zeros(n)                   # créations de 2 tableaux \"numpy\" contenant ne contenant que des zéros (taille n)\n",
    "y = np.zeros(n)\n",
    "\n",
    "for i in range(n):\n",
    "    x[i] = distance[i]*...\n",
    "\n"
   ]
  },
  {
   "cell_type": "markdown",
   "metadata": {},
   "source": [
    "<div class = 'alert alert-warning'>\n",
    "  <H3>Tracé de la trajectoire</H3><br>  \n",
    "    L'instruction <code class = \"python\">plt.plot(x, y, ...)</code> permet de tracer le point d'abscisse <code class = \"python\">x</code> et d'ordonnée <code class = \"python\">y</code>.<br>Si les arguments sont des tableaux contenant plusieurs nombres, l'instruction s'applique à chaque couple de nombres issu des 2 tableaux.\n",
    "    </div>"
   ]
  },
  {
   "cell_type": "code",
   "execution_count": null,
   "metadata": {
    "scrolled": true
   },
   "outputs": [],
   "source": [
    "fig = plt.figure(1,figsize=(15,15))\n",
    "fig.subplots_adjust(bottom=0.085, left=0.225, top = 0.975, right=0.975)\n",
    "fig.add_subplot(3,1,1)\n",
    "\n",
    "plt.plot(x, y, \"+\")\n"
   ]
  },
  {
   "cell_type": "markdown",
   "metadata": {},
   "source": [
    "<div class = 'alert alert-warning'>\n",
    "    Questions\n",
    "    <hr>\n",
    "    <i>1. Quelle est la forme de la courbe ? La représenter sur le compte rendu en indiquant la position du Soleil.<br>\n",
    "        2. Le périhélie est le point de la trajectioire qui est le plus proche du Soleil, l'aphélie le point le plus éloigné. Les placer sur la courbe.<br>\n",
    "        3. Quelle est la longueur demi-grand axe de la courbe ?<br>\n",
    "        4. Représenter aussi l'allure de la trajectoire de la Terre dans le même repère.<br>\n",
    "        5. Combien de temps la Comète de Halley met-elle pour effectuer une révolution ? Votre professeur a vu la Comète de Halley en 1986, lors de son dernier passage au périhélie. Quand la verrez-vous ?<br>\n",
    "        6. Que trouve-t-on au centre de cette courbe ?\n",
    "       </i></div>"
   ]
  },
  {
   "cell_type": "markdown",
   "metadata": {},
   "source": [
    "## Deuxième loi de Kepler"
   ]
  },
  {
   "cell_type": "markdown",
   "metadata": {},
   "source": [
    "<div class = 'alert alert-info'>\n",
    "La deuxième loi de Kepler aussi appelée loi des aires s'énonce traditionnellement ainsi : <br>\n",
    "    <h4>\"Le segment [OP] reliant l'astre attracteur et son satellite balaie des aires égales pendant des durées égales\"</h4><br>\n",
    "    Il existe d'autres manières de l'énoncer :<br>\n",
    "    - L'aire balayée par le segment [OP] est proportionnel à la durée.<br>\n",
    "    - La vitesse aréolaire est constante.\n",
    "</div>"
   ]
  },
  {
   "cell_type": "markdown",
   "metadata": {},
   "source": [
    "<div class = 'alert alert-warning'>\n",
    "    Pour calculer l'aire du triangle (OAB) on peut utiliser la formule suivant:<br>\n",
    "    $$\n",
    "    Aire(OAB) = 0,5 \\times (y_B\\times x_A - y_A\\times x_B)\n",
    "    $$\n",
    "    <hr>\n",
    "    <i>Compléter les lignes permettant de calculer <br>\n",
    "        - l'aire du <code class = \"python\">i</code>ème triangle formé des points O, P[ i ] et P[ i +1 ]<br>\n",
    "    - la durée nécessaire pour balayer cette aire</i><br> \n",
    "    </div>"
   ]
  },
  {
   "cell_type": "code",
   "execution_count": null,
   "metadata": {},
   "outputs": [],
   "source": [
    "aire = np.zeros(n-1)\n",
    "duree = np.zeros(n-1)\n",
    "\n",
    "for i in range(0,n-1):\n",
    "    aire[i] = ...\n",
    "    duree[i] = ..."
   ]
  },
  {
   "cell_type": "markdown",
   "metadata": {},
   "source": [
    "<div class = 'alert alert-warning'>\n",
    "  <H3>Représentation de l'aire en fonction de la durée du parcours</H3><br>  \n",
    "    <hr>\n",
    "    <i>Compléter l'instruction <code class = \"python\">plt.plot(...)</code></i>\n",
    "    </div>"
   ]
  },
  {
   "cell_type": "code",
   "execution_count": null,
   "metadata": {},
   "outputs": [],
   "source": [
    "fig = plt.figure(1,figsize=(12,8))\n",
    "plt.plot(...,..., \"+\")\n"
   ]
  },
  {
   "cell_type": "markdown",
   "metadata": {},
   "source": [
    "<div class = 'alert alert-warning'>\n",
    "    <h5>Modélisation de la courbe</h5><br>\n",
    "    Le code ci-dessous permet de calculer le coefficient directeur de la droite de régression linéaire du nuage de points ainsi que l'écart-type sur la valeur obtenue.<hr>\n",
    "    Questions<br>\n",
    "    <i>1. Quel est modèle qui convient ?<br>\n",
    "        2. La deuxième loi de Kepler est-elle vérifiée ?<br>\n",
    "        3. Quelle est l'unité du coefficient directeur ?<br>\n",
    "    4. Expliquer pourquoi le mouvement de la Comète de Halley n'est pas uniforme.<br>\n",
    "    5. En quel point sa vitesse est-elle maximale ? minimale ?</i>\n",
    "    </div>"
   ]
  },
  {
   "cell_type": "code",
   "execution_count": null,
   "metadata": {},
   "outputs": [],
   "source": [
    "regression=linregress(duree,aire)\n",
    "pente=regression.slope\n",
    "standard_deviation = regression.stderr\n",
    "\n",
    "print(\"coefficient directeur : \", \"%.2e\"%pente)\n",
    "print(\"écart-type : \", \"%.2e\"%standard_deviation)\n"
   ]
  },
  {
   "cell_type": "markdown",
   "metadata": {},
   "source": [
    "<div class = 'alert alert-warning'>\n",
    "    <h5>Tracé du modèle</h5>\n",
    "    </div>"
   ]
  },
  {
   "cell_type": "code",
   "execution_count": null,
   "metadata": {},
   "outputs": [],
   "source": [
    "\n",
    "mn = np.min(duree)\n",
    "mx = np.max(duree)\n",
    "t_modele = np.array([mn,mx])\n",
    "aire_modele = t_modele*pente\n",
    "fig = plt.figure(1,figsize=(12,8))\n",
    "plt.plot(duree,aire, \"+\")\n",
    "plt.plot(t_modele, aire_modele,'-r')"
   ]
  },
  {
   "cell_type": "markdown",
   "metadata": {},
   "source": [
    "## Vecteur vitesse et accélération"
   ]
  },
  {
   "cell_type": "markdown",
   "metadata": {},
   "source": [
    "<div class = 'alert alert-warning'>\n",
    "    On considère que la vitesse instantannée V [i] est égale à la vitesse moyenne entre le point précédent P[i-1] et le point suivant P[i-1].<br>\n",
    "    On fait de même pour l'accélération.<hr>\n",
    "    <i>Compléter les lignes permettant de calculer les coordonnées<br>\n",
    "    - <code class = \"python\">V_x[i]</code> et <code class = \"python\">V_y[i]</code> de la vitesse.<br>\n",
    "        - <code class = \"python\">a_x[i]</code> et <code class = \"python\">a_y[i]</code> de l'accélération.</i>\n",
    "    </div>"
   ]
  },
  {
   "cell_type": "code",
   "execution_count": null,
   "metadata": {},
   "outputs": [],
   "source": [
    "V_x = np.zeros(n)              # créations de 2 tableaux \"numpy\" contenant ne contenant que des zéros (taille n)\n",
    "V_y = np.zeros(n)\n",
    "\n",
    "for i in range(1,n-1):\n",
    "    V_x[i] = ua/jour* ...\n",
    "    V_y[i] = ua/jour* ...\n",
    "\n",
    "a_x = np.zeros(n)\n",
    "a_y = np.zeros(n)\n",
    "\n",
    "for i in range(2,n-2):\n",
    "    a_x[i] = ...\n",
    "    a_y[i] = ..."
   ]
  },
  {
   "cell_type": "markdown",
   "metadata": {},
   "source": [
    "<div class = 'alert alert-warning'>\n",
    "    L'instruction <code class = \"python\">plt.quiver(x[i], y[i], V_x[i], V_y[i],...)</code> représente le vecteur de coordonnées <code class = \"python\">V_x[i], V_y[i]</code>au point de coordonnées <code class = \"python\">(x[i], y[i])</code>.<br>\n",
    "    L'argument <code class = \"python\">scale</code> permet de choisir une échelle pour la représentation des vecteurs.<br>\n",
    "    Dans la boucle <code class = \"python\">for i in range(0,n,3):</code> l'entier en troisième argument fixe le pas de l'itération.\n",
    "<div>"
   ]
  },
  {
   "cell_type": "code",
   "execution_count": null,
   "metadata": {},
   "outputs": [],
   "source": [
    "fig = plt.figure(1,figsize=(20,20))\n",
    "fig.subplots_adjust(bottom=0.085, left=0.225, top = 0.975, right=0.975)\n",
    "fig.add_subplot(3,1,1)\n",
    "plt.margins(0.1, 0.5)\n",
    "\n",
    "plt.plot(x, y, \"+\")\n",
    "for i in range(0,n,3):\n",
    "    plt.quiver(x[i],\n",
    "           y[i],\n",
    "           V_x[i],\n",
    "           V_y[i],\n",
    "           color=\"red\",\n",
    "           scale_units=\"xy\",\n",
    "           width=0.002,\n",
    "           scale=10,\n",
    "        )\n",
    "\n",
    "plt.axhline(y=0,color='b',linewidth=0.5,linestyle='-')\n",
    "plt.axvline(x=0,color='b',linewidth=0.5,linestyle='-')"
   ]
  },
  {
   "cell_type": "markdown",
   "metadata": {},
   "source": [
    "<div class = 'alert alert-warning'>\n",
    "    <i>\n",
    "        Compléter le code suivant pour tracer les vecteurs accélération avec un pas de 2.</i>\n",
    "<div>"
   ]
  },
  {
   "cell_type": "code",
   "execution_count": null,
   "metadata": {},
   "outputs": [],
   "source": [
    "fig = plt.figure(1,figsize=(20,20))\n",
    "fig.subplots_adjust(bottom=0.085, left=0.225, top = 0.975, right=0.975)\n",
    "fig.add_subplot(3,1,1)\n",
    "plt.margins(0.1, 0.5)\n",
    "\n",
    "plt.plot(x, y, \"+\")\n",
    "for i in range(0,n,2):\n",
    "    ...\n",
    "\n",
    "plt.axhline(y=0,color='b',linewidth=0.5, alpha=0.5)\n",
    "plt.axvline(x=0,color='b',linewidth=0.5, alpha=0.5)"
   ]
  },
  {
   "cell_type": "markdown",
   "metadata": {},
   "source": [
    "<div class = 'alert alert-warning'>\n",
    "    Questions<br>\n",
    "    <i>1. Les prévisions issues de la deuxième loi de Kepler sont-elles en accord avec les vecteurs vitesse tracés ?<br>\n",
    "        2. Que remarque-t-on pour la direction du vecteur accélération ? <br>\n",
    "        3. Quelle loi permettait de prévoir cette observation ?<br>\n",
    "        4. Comment évolue l'accélération tangentielle au cours d'une révolution ?</i>\n",
    "    </div>"
   ]
  },
  {
   "cell_type": "markdown",
   "metadata": {},
   "source": [
    "C'est fini\n",
    "\n",
    "Il ne reste plus qu'à télécharger le fichier !\n"
   ]
  },
  {
   "cell_type": "markdown",
   "metadata": {},
   "source": [
    "<div class = 'alert alert-success'><h4>La commande suivante imprime toutes les lignes de code exécutées depuis la dernière initialisation de la page (Restart and Clear Output) <br><br>Cela permet de les copier dans Spyder ou dans un fichier .text par exemple.</h4></div>"
   ]
  },
  {
   "cell_type": "code",
   "execution_count": null,
   "metadata": {},
   "outputs": [],
   "source": [
    "%history"
   ]
  }
 ],
 "metadata": {
  "kernelspec": {
   "display_name": "Python 3",
   "language": "python",
   "name": "python3"
  },
  "language_info": {
   "codemirror_mode": {
    "name": "ipython",
    "version": 3
   },
   "file_extension": ".py",
   "mimetype": "text/x-python",
   "name": "python",
   "nbconvert_exporter": "python",
   "pygments_lexer": "ipython3",
   "version": "3.7.3"
  }
 },
 "nbformat": 4,
 "nbformat_minor": 4
}

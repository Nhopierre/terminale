{
 "cells": [
  {
   "cell_type": "markdown",
   "metadata": {},
   "source": [
    "# Diagramme de distribution d'un couple acido-basique"
   ]
  },
  {
   "cell_type": "markdown",
   "metadata": {
    "raw_mimetype": "text/restructuredtext"
   },
   "source": [
    "<div class = 'alert alert-info'>\n",
    "Pour exécuter le code écrit dans un bloc : <b>MAJ-ENTREE </b><br>\n",
    "    Pour recommencer depuis le début : Menu <b>Kernel / Restart and clear output </b><br>\n",
    "    Toujours exécuter dans l'ordre le code  écrit dans les blocs précédés de la mention <b>Entrée  [  ]</b>\n",
    "</div>"
   ]
  },
  {
   "cell_type": "markdown",
   "metadata": {},
   "source": [
    "<div class = 'alert alert-warning'>Importation des modules de calcul et de tracé de courbe.\n",
    "    </div>"
   ]
  },
  {
   "cell_type": "code",
   "execution_count": null,
   "metadata": {},
   "outputs": [],
   "source": [
    "import matplotlib.pyplot as plt\n",
    "%matplotlib inline\n",
    "import numpy as np"
   ]
  },
  {
   "cell_type": "markdown",
   "metadata": {},
   "source": [
    "## 1. Données"
   ]
  },
  {
   "cell_type": "markdown",
   "metadata": {},
   "source": [
    "<div class = 'alert alert-warning'>Données à compléter pour un acide. <br>\n",
    "    Compléter avec votre nom et le nom de l'acide écrits entre guillemets.<br>\n",
    "    Compléter avec la valeur du pKa de l'acide.\n",
    "    </div>"
   ]
  },
  {
   "cell_type": "code",
   "execution_count": null,
   "metadata": {},
   "outputs": [],
   "source": [
    "Nom = ...\n",
    "nom_de_l_acide = "...acide folklorique..."\n",
    "pKa = "
   ]
  },
  {
   "cell_type": "markdown",
   "metadata": {},
   "source": [
    "## 2. Calcul des proportions de l'acide et de la base du couple"
   ]
  },
  {
   "cell_type": "markdown",
   "metadata": {},
   "source": [
    "<div class = 'alert alert-warning'>\n",
    "    La fonction suivante <code class = \\\"python\\\">diagramme( )</code> permet de calculer les pourcentages de l'espèce acide <code class = \"python\">P_acide</code> et de l'espèce basique <code class = \"python\">P_base</code> présentes à partir du paramètre <code class = \"python\">pKa</code>.\n",
    "    <br><br>\n",
    "   La méthode <code class = \"python\">np.arange(min ,max ,pas )</code> crée un tableau \"numpy\" contenant les nombres compris entre <code class = \"python\">min</code> (inclus) et <code class = \"python\">max</code> (exclus). Le troisième argument <code class = \"python\">pas</code> est l'écart entre deux nombres consécutifs. \n",
    "<hr>\n",
    "    a) Rappeler l'expression du pKa en fonction du pH. <br>\n",
    "    b) En déduire le rapport R de la concentration de la base sur celle de l'acide d'un couple, en fonction du pH et du pKa.<br>\n",
    "    c) En notant C la concentration apportée, exprimer la concentration de l'acide [AH] en fonction de C et de R.<br>\n",
    "    d) Faire de même pour la concentration de la base [A<sup>-</sup>].<br>\n",
    "    e) Montrer que les pourcentages d'acide et de base présents sont donnés par les relations :<br>\n",
    "    $$\n",
    "    p(AH)=\\frac{100}{R+1}\n",
    "    $$<br>\n",
    "    $$\n",
    "    p(A^{-})=\\frac{100\\times R}{R+1}\n",
    "    $$\n",
    "<hr>\n",
    "    Compléter les lignes permettant de calculer <code class = \"python\">R</code>, le pourcentage d'acide <code class = \"python\">P_acide</code> et le pourcentage de base <code class = \"python\">P_base</code>\n",
    "    </div>"
   ]
  },
  {
   "cell_type": "code",
   "execution_count": null,
   "metadata": {},
   "outputs": [],
   "source": [
    "def diagramme(pKa):\n",
    "    pH = np.arange(  ,  ,  )\n",
    "    R =      \n",
    "    P_base =      \n",
    "    P_acide =           \n",
    "\n",
    "    #####   tracé du diagramme   ######################################################\n",
    "    \n",
    "    plt.figure (figsize = (10,8))\n",
    "    plt.plot(pH,P_acide,\"r+-\",label=\"acide\")\n",
    "    plt.plot(pH,P_base,\"b+-\",label=\"base\")\n",
    "    plt.xlabel(\"pH\")\n",
    "    plt.ylabel(\"%\")\n",
    "    plt.legend()\n",
    "    plt.grid()\n",
    "    plt.title (\"Diagramme de distribution d'un couple acide faible/base faible\")\n",
    "    plt.show\n",
    "    "
   ]
  },
  {
   "cell_type": "markdown",
   "metadata": {},
   "source": [
    "## 3. Tracé du diagramme de distribution."
   ]
  },
  {
   "cell_type": "markdown",
   "metadata": {},
   "source": [
    "<div class = 'alert alert-warning'>\n",
    "    Appel de la fonction <code class = \"python\">diagramme( )</code> avec passage de l'argument <code class = \"python\">pKa</code> défini plus haut.\n",
    "    </div>"
   ]
  },
  {
   "cell_type": "code",
   "execution_count": null,
   "metadata": {},
   "outputs": [],
   "source": [
    "diagramme (pKa)"
   ]
  },
  {
   "cell_type": "markdown",
   "metadata": {},
   "source": [
    "<div class = 'alert alert-warning'>\n",
    "Tracer l'allure du diagramme de distribution\n",
    "<Hr>    \n",
    "    Questions\n",
    "    <hr>\n",
    "    a) Pour quelle valeur particulière de pH, les concentrations de la base et de l'acide conjugués sont-elles égales ? <br>\n",
    "    b) Pour quel domaine de pH, le rapport de la concentration de la base sur celle de l'acide est-il supérieur à 10 ? <br>\n",
    "    c) Pour quel domaine de pH, le rapport de la concentration de l'acide sur celle de la base est-il supérieur à 10 ? <br>\n",
    "    d) Quelle est l'espèce qui prédomine lorsque pH = 7,0 ?\n",
    "<hr>\n",
    "    Reprendre les question précédentes pour une solution d'ammoniac.\n",
    "</div>"
   ]
  },
  {
   "cell_type": "markdown",
   "metadata": {},
   "source": [
    "## C'est fini\n",
    "Il ne reste plus qu'à télécharger le fichier !"
   ]
  },
  {
   "cell_type": "markdown",
   "metadata": {},
   "source": [
    "<div class = 'alert alert-success'><h4>La commande suivante imprime toutes les lignes de code exécutées depuis la dernière initialisation de la page (Restart and Clear Output) <br><br>Cela permet de les copier dans Spyder ou dans un fichier .text par exemple.</h4></div>"
   ]
  },
  {
   "cell_type": "code",
   "execution_count": null,
   "metadata": {},
   "outputs": [],
   "source": [
    "%history"
   ]
  }
 ],
 "metadata": {
  "kernelspec": {
   "display_name": "Python 3",
   "language": "python",
   "name": "python3"
  },
  "language_info": {
   "codemirror_mode": {
    "name": "ipython",
    "version": 3
   },
   "file_extension": ".py",
   "mimetype": "text/x-python",
   "name": "python",
   "nbconvert_exporter": "python",
   "pygments_lexer": "ipython3",
   "version": "3.7.6"
  }
 },
 "nbformat": 4,
 "nbformat_minor": 4
}
